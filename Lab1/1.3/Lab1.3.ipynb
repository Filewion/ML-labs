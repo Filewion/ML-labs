{
 "cells": [
  {
   "cell_type": "code",
   "execution_count": 3,
   "id": "cb53a602-8cf7-42c1-bfcc-31a757217c82",
   "metadata": {},
   "outputs": [],
   "source": [
    "import numpy as np\n",
    "import pandas as pd\n",
    "import matplotlib.pyplot as plt\n",
    "import sklearn as skl \n",
    "from sklearn import datasets\n",
    "from sklearn import linear_model\n",
    "from sklearn.model_selection import train_test_split \n",
    "\n",
    "from sklearn.metrics import mean_absolute_error # MAE\n",
    "from sklearn.metrics import r2_score # R2\n",
    "from sklearn.metrics import mean_absolute_percentage_error # MAPE\n"
   ]
  },
  {
   "cell_type": "code",
   "execution_count": 69,
   "id": "5325e6a7-7dfa-43b2-bfa9-7bb10181bf09",
   "metadata": {},
   "outputs": [
    {
     "name": "stdout",
     "output_type": "stream",
     "text": [
      "sklearn:\n",
      "R: 0.05\n",
      "MAE: 56.84\n",
      "MAPE: 0.50\n",
      "\n",
      "\n",
      "Собственный алгоритм: \n",
      "R: 0.05\n",
      "MAE: 56.84\n",
      "MAPE: 0.50\n"
     ]
    }
   ],
   "source": [
    "#Метрики по моей второй части:\n",
    "\n",
    "X1, y1 = skl.datasets.load_diabetes(return_X_y = True,as_frame = True) \n",
    "X_ = X1[['s2']] \n",
    "X_train1, X_test1, y_train1, y_test1 = train_test_split(X_,y1,test_size=0.2,random_state = 0)\n",
    "\n",
    "#sklearn \n",
    "reg = linear_model.LinearRegression()\n",
    "reg.fit(X_train1,y_train1)\n",
    "y_pred1 = reg.predict(X_test1)\n",
    "\n",
    "print(\"sklearn:\")\n",
    "print(\"R: %.2f\" % r2_score(y_test1, y_pred1))\n",
    "print(\"MAE: %.2f\" % mean_absolute_error(y_test1, y_pred1))\n",
    "print(\"MAPE: %.2f\" % mean_absolute_percentage_error(y_test1, y_pred1))\n",
    "print(\"\\n\")\n",
    "\n",
    "\n",
    "\n",
    "#собственный алгоритм \n",
    "X_mean = X_train.iloc[:,0].mean()\n",
    "y_mean = y_train.mean()\n",
    "cov,S  = 0, 0\n",
    "for i in X_train.index:\n",
    "    cov += (X_train.iloc[:,0][i]-X_mean)*(y_train[i]-y_mean)\n",
    "    S += (X_train.iloc[:,0][i]-X_mean)**2\n",
    "b_1 = cov/S\n",
    "b_0 = y_mean - b_1*X_mean\n",
    "reg = lambda x: b_0 + x*b_1 \n",
    "y_pred1_ = reg(X_test1)\n",
    "\n",
    "print(\"Собственный алгоритм: \")\n",
    "print(\"R: %.2f\" % r2_score(y_test1, y_pred1_))\n",
    "print(\"MAE: %.2f\" % mean_absolute_error(y_test1, y_pred1_))\n",
    "print(\"MAPE: %.2f\" % mean_absolute_percentage_error(y_test1, y_pred1_))\n",
    "\n"
   ]
  },
  {
   "cell_type": "code",
   "execution_count": 67,
   "id": "5a84bd71-cc1f-4ecf-b0c0-1fd19011a8aa",
   "metadata": {},
   "outputs": [
    {
     "name": "stdout",
     "output_type": "stream",
     "text": [
      "Метрики в LabML_1.2: \n",
      "R: 0.95\n",
      "MAE: 4.18\n",
      "MAPE: 0.13\n"
     ]
    }
   ],
   "source": [
    "#метрики LabML_1.2\n",
    "dataset = pd.read_csv('student_scores.csv')\n",
    "X2 = dataset.iloc[:, :-1].values \n",
    "y2 = dataset.iloc[:, 1].values\n",
    "\n",
    "X_train2, X_test2, y_train2, y_test2 = train_test_split(X2, y2, test_size=0.2, random_state=0)\n",
    "\n",
    "regressor = linear_model.LinearRegression() \n",
    "regressor.fit(X_train2, y_train2)\n",
    "y_pred2 = regressor.predict(X_test2)\n",
    "\n",
    "print(\"Метрики в LabML_1.2: \")\n",
    "print(\"R: %.2f\" % r2_score(y_test2, y_pred2))\n",
    "print(\"MAE: %.2f\" % mean_absolute_error(y_test2, y_pred2))\n",
    "print(\"MAPE: %.2f\" % mean_absolute_percentage_error(y_test2, y_pred2))"
   ]
  },
  {
   "cell_type": "code",
   "execution_count": null,
   "id": "8cd77544-bcd2-4244-943d-37c83f3a1e94",
   "metadata": {},
   "outputs": [],
   "source": []
  }
 ],
 "metadata": {
  "kernelspec": {
   "display_name": "Python [conda env:base] *",
   "language": "python",
   "name": "conda-base-py"
  },
  "language_info": {
   "codemirror_mode": {
    "name": "ipython",
    "version": 3
   },
   "file_extension": ".py",
   "mimetype": "text/x-python",
   "name": "python",
   "nbconvert_exporter": "python",
   "pygments_lexer": "ipython3",
   "version": "3.12.3"
  }
 },
 "nbformat": 4,
 "nbformat_minor": 5
}
