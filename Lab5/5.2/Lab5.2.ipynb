{
 "cells": [
  {
   "cell_type": "code",
   "execution_count": 5,
   "metadata": {
    "colab": {
     "base_uri": "https://localhost:8080/"
    },
    "executionInfo": {
     "elapsed": 86,
     "status": "ok",
     "timestamp": 1747425425767,
     "user": {
      "displayName": "denisya",
      "userId": "16794152013380384158"
     },
     "user_tz": -120
    },
    "id": "Si0Q10BdohV8",
    "outputId": "5ba219e4-c9c2-481d-a394-653a7fcfed65"
   },
   "outputs": [
    {
     "name": "stdout",
     "output_type": "stream",
     "text": [
      "F1: 0.7143\n",
      "Время обучения: 0.06\n"
     ]
    },
    {
     "name": "stderr",
     "output_type": "stream",
     "text": [
      "/usr/local/lib/python3.11/dist-packages/xgboost/core.py:158: UserWarning: [19:57:05] WARNING: /workspace/src/learner.cc:740: \n",
      "Parameters: { \"use_label_encoder\" } are not used.\n",
      "\n",
      "  warnings.warn(smsg, UserWarning)\n"
     ]
    }
   ],
   "source": [
    "import xgboost as xgb\n",
    "import pandas as pd\n",
    "import matplotlib.pyplot as plt\n",
    "import numpy as np\n",
    "import time\n",
    "\n",
    "from sklearn.model_selection import train_test_split\n",
    "from sklearn.preprocessing import StandardScaler\n",
    "from sklearn.ensemble import RandomForestClassifier\n",
    "from sklearn.metrics import f1_score\n",
    "from google.colab import drive\n",
    "drive.mount('/content/drive/')\n"
   ]
  },
  {
   "cell_type": "code",
   "execution_count": 4,
   "metadata": {
    "colab": {
     "base_uri": "https://localhost:8080/"
    },
    "executionInfo": {
     "elapsed": 19773,
     "status": "ok",
     "timestamp": 1747425244964,
     "user": {
      "displayName": "denisya",
      "userId": "16794152013380384158"
     },
     "user_tz": -120
    },
    "id": "XUSm9LRdoFCG",
    "outputId": "ec429467-961d-45bb-cece-1fa7c8250afc"
   },
   "outputs": [
    {
     "name": "stdout",
     "output_type": "stream",
     "text": [
      "Mounted at /content/drive/\n",
      "F1: 0.7143\n",
      "Время обучения: 0.14\n"
     ]
    },
    {
     "name": "stderr",
     "output_type": "stream",
     "text": [
      "/usr/local/lib/python3.11/dist-packages/xgboost/core.py:158: UserWarning: [19:54:04] WARNING: /workspace/src/learner.cc:740: \n",
      "Parameters: { \"use_label_encoder\" } are not used.\n",
      "\n",
      "  warnings.warn(smsg, UserWarning)\n"
     ]
    }
   ],
   "source": [
    "df = pd.read_csv(\"diabetes.csv\")\n",
    "\n",
    "X = df.drop(\"Outcome\", axis=1)\n",
    "y = df[\"Outcome\"]\n",
    "\n",
    "X_train, X_test, y_train, y_test = train_test_split(X, y, test_size=0.2, random_state=0)\n",
    "\n",
    "depths = range(1, 30)\n",
    "f1_scores_depth = []\n",
    "\n",
    "for d in depths:\n",
    "    clf = RandomForestClassifier(max_depth=d, random_state=0)\n",
    "    clf.fit(X_train, y_train)\n",
    "    y_pred = clf.predict(X_test)\n",
    "    f1_scores_depth.append(f1_score(y_test, y_pred))\n",
    "\n",
    "plt.plot(depths, f1_scores_depth, marker='o')\n",
    "plt.xlabel(\"Глубина деревьев\")\n",
    "plt.ylabel(\"F1\")\n",
    "plt.grid()\n",
    "plt.show()"
   ]
  },
  {
   "cell_type": "code",
   "execution_count": 6,
   "metadata": {
    "colab": {
     "base_uri": "https://localhost:8080/",
     "height": 450
    },
    "collapsed": true,
    "executionInfo": {
     "elapsed": 2941,
     "status": "ok",
     "timestamp": 1747425504328,
     "user": {
      "displayName": "denisya",
      "userId": "16794152013380384158"
     },
     "user_tz": -120
    },
    "id": "c-ldg2jOq_gE",
    "jupyter": {
     "outputs_hidden": true
    },
    "outputId": "771abaf2-ff04-4b84-f427-35eba550b397"
   },
   "outputs": [
    {
     "data": {
      "image/png": "[encoded data removed]",
      "text/plain": [
       "<Figure size 640x480 with 1 Axes>"
      ]
     },
     "metadata": {},
     "output_type": "display_data"
    }
   ],
   "source": [
    "features_range = range(1, X.shape[1] + 1)\n",
    "f1score_features = []\n",
    "\n",
    "for mf in features_range:\n",
    "    clf = RandomForestClassifier(max_features=mf, random_state=0)\n",
    "    clf.fit(X_train, y_train)\n",
    "    y_pred = clf.predict(X_test)\n",
    "    f1score_features.append(f1_score(y_test, y_pred))\n",
    "\n",
    "plt.plot(features_range, f1score_features, marker='o')\n",
    "plt.xlabel(\"max_features\")\n",
    "plt.ylabel(\"F1\")\n",
    "plt.grid()\n",
    "plt.show()\n"
   ]
  },
  {
   "cell_type": "code",
   "execution_count": null,
   "metadata": {
    "id": "vWYyHxgyrZac"
   },
   "outputs": [],
   "source": [
    "tree_counts = [10, 20,50,75, 100, 150, 200,500]\n",
    "f1score_trees = []\n",
    "time_ = []\n",
    "\n",
    "for n in tree_counts:\n",
    "    clf = RandomForestClassifier(n_estimators=n, random_state=0)\n",
    "    start = time.time()\n",
    "    clf.fit(X_train, y_train)\n",
    "    end = time.time()\n",
    "\n",
    "    y_pred = clf.predict(X_test)\n",
    "    f1score_trees.append(f1_score(y_test, y_pred))\n",
    "    time_.append(end - start)\n",
    "\n",
    "plt.figure(figsize=(12,5))\n",
    "plt.subplot(1,2,1)\n",
    "plt.plot(tree_counts, f1score_trees, marker='o')\n",
    "plt.xlabel(\"Кол-во деревьев\")\n",
    "plt.ylabel(\"F1\")\n",
    "plt.grid()\n",
    "\n",
    "plt.subplot(1,2,2)\n",
    "plt.plot(tree_counts, time_, marker='o', color='orange')\n",
    "plt.xlabel(\"Кол-во деревьев\")\n",
    "plt.ylabel(\"Время\")\n",
    "plt.grid()\n",
    "plt.show()"
   ]
  },
  {
   "cell_type": "code",
   "execution_count": null,
   "metadata": {
    "id": "_ClqAw65rcvD"
   },
   "outputs": [],
   "source": [
    "import xgboost as xgb\n",
    "xgb_model = xgb.XGBClassifier(max_depth=7,learning_rate=0.1,n_estimators=100, use_label_encoder=False,eval_metric=\"logloss\")\n",
    "\n",
    "start = time.time()\n",
    "xgb_model.fit(X_train, y_train)\n",
    "end = time.time()\n",
    "\n",
    "y_pred_xgb = xgb_model.predict(X_test)\n",
    "f1_xgb = f1_score(y_test, y_pred_xgb)\n",
    "xgb_time = end - start\n",
    "\n",
    "print(f\"F1: {f1_xgb:.4f}\")\n",
    "print(f\"Время обучения: {xgb_time:.2f}\")"
   ]
  },
  {
   "cell_type": "code",
   "execution_count": null,
   "metadata": {
    "id": "80ptMOiirkJb"
   },
   "outputs": [],
   "source": [
    "best_rf = RandomForestClassifier(n_estimators=100, max_depth=7, max_features=4, random_state=42)\n",
    "start_rf = time.time()\n",
    "best_rf.fit(X_train_scaled, y_train)\n",
    "end_rf = time.time()\n",
    "\n",
    "y_pred_rf = best_rf.predict(X_test_scaled)\n",
    "f1_rf = f1_score(y_test, y_pred_rf)\n",
    "rf_time = end_rf - start_rf\n",
    "\n",
    "print(\"Сравнение моделей:\")\n",
    "print(f\"Random Forest - F1: {f1_rf:.4f}, время: {rf_time:.2f} \")\n",
    "print(f\"XGBoost       - F1: {f1_xgb:.4f}, время: {xgb_time:.2f} \")"
   ]
  }
 ],
 "metadata": {
  "colab": {
   "authorship_tag": "ABX9TyOwPGJIPi3/s1x5bCknDMPn",
   "provenance": []
  },
  "kernelspec": {
   "display_name": "Python [conda env:base] *",
   "language": "python",
   "name": "conda-base-py"
  },
  "language_info": {
   "codemirror_mode": {
    "name": "ipython",
    "version": 3
   },
   "file_extension": ".py",
   "mimetype": "text/x-python",
   "name": "python",
   "nbconvert_exporter": "python",
   "pygments_lexer": "ipython3",
   "version": "3.12.3"
  }
 },
 "nbformat": 4,
 "nbformat_minor": 4
}
